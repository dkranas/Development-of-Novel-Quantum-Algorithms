{
 "cells": [
  {
   "cell_type": "markdown",
   "id": "b9438088-8e09-49cf-a738-8cf6571f3fb0",
   "metadata": {},
   "source": [
    "## <center> Womanium Quantum+AI 2024 Final Project Submission </center>\n",
    "\n",
    "**Project Track**: Development of Novel Quantum Algorithms\n",
    "\n",
    "**Project Topic**: [Exponential Quantum Speedup in Simulating Coupled Classical Oscillators](https://doi.org/10.1103/PhysRevX.13.041041)\n",
    "\n",
    "**Team Members**:\n",
    "* Dimitrios Kranas\n",
    "* Haemanth Velmurugan"
   ]
  },
  {
   "cell_type": "markdown",
   "id": "0efdb46c-7d22-4e5b-bf44-d6ce49c6c61d",
   "metadata": {},
   "source": [
    "##\n",
    "$\\textbf{Note}$: In this notebook, we work now on the case of the 2 harmonic oscillators. We perform the preparation of the initial state, the LCU of the Hamiltonian, the block encoding of the Hamiltonian, and the Hamiltonian simulation. "
   ]
  },
  {
   "cell_type": "markdown",
   "id": "97fb99d0-2ebc-4143-a4ba-ea1e3c874b4a",
   "metadata": {},
   "source": [
    "## Task 2: Perform the Hamiltonian block-encoding and simulation for the simple case of two oscillators. \n",
    "\n",
    "### Model description\n",
    "Consider a systen of $N$ coupled harmonic oscillators. The $j$-th oscillator evolves by the equation\n",
    "\n",
    "$m_j\\ddot{x}_j(t)=\\sum_{k\\neq j}\\kappa_{jk}\\left[x_k(t)-x_j(t))\\right]-\\kappa_{jj}x_j(t) \\quad(1),$\n",
    "\n",
    "or, in matrix notation,\n",
    "\n",
    "$\\textbf{M}\\ddot{\\vec{x}}(t)=-\\textbf{F}\\vec{x}(t) \\quad(2),$\n",
    "\n",
    "where $\\textbf{x}(t)=\\left(x_1(t), x_2(t), ..., x_N(t)\\right)$, $\\textbf{M}=\\text{diag}(m_j)$ is the mass-matrix, and $\\textbf{F}$ is a matrix with elements $F_{jj}=\\sum_k\\kappa_{jk},$ $F_{jk}=-\\kappa_{jk}$.\n",
    "\n",
    "Equation (2) is a set of $N$ second-order ordinary differential equations (ODEs). They can be solved in a classical computer. However, the time it takes to solve them scales exponentially with the number of oscillators. The goal of the paper is to solve these equations on a quantum computer. A powerful quantum algorithm developed to evolve quantum states is the so-called $\\textit{Hamiltonian simulation}$. Hence, the first task is to map (2) to a language amenable to performing Hamiltonian simulations. That requires finding a transformation that converts (2) into a first-order ODE. This is done in the paper and the method to achieve it is, first, the following variable is introduced $(\\vec{y}=A\\vec{x})$, where $A:=\\sqrt{\\textbf{M}}^{-1}\\textbf{F}\\sqrt{\\textbf{M}}^{-1}$. Then, adding the term $i\\sqrt{\\textbf{A}}\\dot{\\vec{y}}(t)$, one obtains the equation:\n",
    "\n",
    "$\\ddot{\\vec{y}}(t)+i\\sqrt{\\text{A}}\\dot{\\vec{y}}(t)=i\\sqrt{A}\\left(\\dot{\\vec{y}}(t)+i\\sqrt{\\text{A}}\\vec{y}(t)\\right).\\quad (3)$\n",
    "\n",
    "Equation (3) has mathematically the same form as the Schrodinger equation: \n",
    "\n",
    "$\\partial_t \\ket{\\psi(t)}=-i\\textbf{H}\\ket{\\psi(t)}\\quad (4)$. \n",
    "\n",
    "The analog of the state $\\ket{\\psi(t)}$ in (4) is $\\dot{\\vec{y}}(t)+i\\sqrt{\\text{A}}\\vec{y}(t)$ and the equivalent of the Hamiltoanian is $\\textbf{H}=-\\sqrt{A}$. Performing this encoding, i.e. mapping of the original system to a quantum evolution one, we obtain\n",
    "\n",
    "$\n",
    "\\begin{pmatrix}\n",
    "\\dot{\\vec{y}}(t)\\\\\n",
    "i\\textbf{B}^\\dagger\\vec{y}(t)\n",
    "\\end{pmatrix}=e^{-i\\textbf{H}t}\n",
    "\\begin{pmatrix}\n",
    "\\dot{\\vec{y}}(0)\\\\\n",
    "i\\textbf{B}^\\dagger\\vec{y}(0)\n",
    "\\end{pmatrix}, \\quad (5)\n",
    "$\n",
    "\n",
    "#### Now, we specify the Hamiltonian \n",
    "\n",
    "In the encoding we have studied, the Hamiltonian is given by $\\textbf{H}=-\\sqrt{\\textbf{A}}$ as discussed above. Following the paper, let $\\textbf{B}$ be an $N\\times M$ matrix such that $\\textbf{B}\\textbf{B}^{\\dagger}=\\textbf{A}$. This leads to the following representation of the Hamiltonian matrix:\n",
    "\n",
    "$\\textbf{H}=\n",
    "\\begin{pmatrix}\n",
    "\\textbf{0} & \\textbf{B}\\\\\n",
    "\\textbf{B}^{\\dagger} & \\textbf{0}\n",
    "\\end{pmatrix} \\quad (6)\n",
    "$\n",
    "\n",
    "From the latter, we obtain: $\\textbf{H}^2=\\textbf{A}$. \n",
    "\n",
    "Note that in this encoding, the matrix $\\textbf{A}$ has dimensions $N\\times N$, the matrix $\\textbf{B}$ has $N\\times M$, the matrix $\\textbf{B}^\\dagger$ has $m\\times N$, and the Hamiltoanian $\\textbf{H}$ has $(N+M)\\times (N+M)$. The $\\textbf{B}$ matrix is constructed in the $\\ker{j,k}$ basis where $j,k\\in [N]$ are integers with $j\\leq k$. Recall that $N$ is the number of oscillators. For this first pedagogical implementation, we take $N=3$. The matrix $B$ is constructed by the relationship\n",
    "\n",
    "$\n",
    "\\textbf{Q}:=\\sqrt{\\textbf{M}}\\textbf{B}=\n",
    "\\begin{cases}\n",
    "\\sqrt{\\kappa_{jj}}\\ket{j}, \\quad j=k,\\\\\n",
    "\\sqrt{\\kappa_{jk}}(\\ket{j}-\\ket{k}), \\quad j<k\\\\\n",
    "\\end{cases} \\quad (7)\n",
    "$\n",
    "\n",
    "Putting all the above information together, for the case of the $N=3$ oscillators, we obtain the matrices:\n",
    "\n",
    "---Mass matrix\n",
    "\n",
    "$\n",
    "\\textbf{M}=\n",
    "\\begin{pmatrix}\n",
    "m_1 & 0\\\\\n",
    "0 & m_2\n",
    "\\end{pmatrix} \\quad (8)\n",
    "$\n",
    "\n",
    "---Spring constants matrix\n",
    "\n",
    "$\n",
    "\\textbf{K}=\n",
    "\\begin{pmatrix}\n",
    "\\kappa_{11} & \\kappa_{12}\\\\\n",
    "\\kappa_{12} & \\kappa_{22}\n",
    "\\end{pmatrix} \\quad (9)\n",
    "$\n",
    "\n",
    "---The coupling $\\textbf{F}$ matrix\n",
    "\n",
    "$\n",
    "\\textbf{F}=\n",
    "\\begin{pmatrix}\n",
    "\\kappa_{11}+\\kappa_{12}& -\\kappa_{12}\\\\\n",
    "-\\kappa_{12} & \\kappa_{12}+\\kappa_{22}\n",
    "\\end{pmatrix} \\quad (10)\n",
    "$\n",
    "\n",
    "---The $\\textbf{A}:=\\sqrt{\\textbf{M}}^{-1}\\textbf{F}\\sqrt{\\textbf{M}}^{-1}$ matrix\n",
    "\n",
    "$\n",
    "\\textbf{A}=\n",
    "\\begin{pmatrix}\n",
    "\\frac{\\kappa_{11}+\\kappa_{12}}{m_1} & -\\frac{\\kappa_{12}}{\\sqrt{m_1m_2}}\\\\\n",
    "-\\frac{\\kappa_{12}}{\\sqrt{m_1m_2}} & \\frac{\\kappa_{12}+\\kappa_{22}}{m_2}\\\\\n",
    "\\end{pmatrix} \\quad (11)\n",
    "$\n",
    "\n",
    "---The $\\textbf{Q}:=\\sqrt{\\textbf{M}}\\textbf{B}$ matrix\n",
    "\n",
    "$\n",
    "\\textbf{Q}=\n",
    "\\begin{pmatrix}\n",
    "\\sqrt{\\kappa_{11}} & \\sqrt{\\kappa_{12}} & 0\\\\\n",
    "0 & -\\sqrt{\\kappa_{12}} & \\sqrt{\\kappa_{22}}\n",
    "\\end{pmatrix} \\quad (12)\n",
    "$\n",
    "\n",
    "---The matrix $\\textbf{B}=\\sqrt{\\textbf{M}}\\textbf{Q}$ is\n",
    "\n",
    "$\n",
    "\\textbf{B}=\n",
    "\\begin{pmatrix}\n",
    "\\sqrt{\\frac{\\kappa_{11}}{m_1}} & \\sqrt{\\frac{\\kappa_{12}}{m_1}} & 0\\\\\n",
    "0 & -\\sqrt{\\frac{\\kappa_{12}}{m_2}} & \\sqrt{\\frac{\\kappa_{22}}{m_2}}\n",
    "\\end{pmatrix} \\quad (13)\n",
    "$\n",
    "\n",
    "Then, we can check that, indeed, $\\textbf{B}\\textbf{B}^{\\text{T}}=\\textbf{A}$. Then, the evolution under investigation takes the form: \n",
    "\n",
    "$\n",
    "\\begin{pmatrix}\n",
    "\\dot{\\vec{y}}(t)\\\\\n",
    "i\\textbf{B}^\\dagger\\vec{y}(t)\n",
    "\\end{pmatrix}=e^{-it\\textbf{H}}\n",
    "\\begin{pmatrix}\n",
    "\\dot{\\vec{y}}(0)\\\\\n",
    "i\\textbf{B}^\\dagger\\vec{y}(0)\n",
    "\\end{pmatrix} \\quad (14)\n",
    "$\n",
    "\n",
    "The Hamiltonian matrix takes the form:\n",
    "\n",
    "$\\textbf{H}=\n",
    "\\begin{pmatrix}\n",
    "\\textbf{0} & \\textbf{B}\\\\\n",
    "\\textbf{B}^{\\dagger} & \\textbf{0}\n",
    "\\end{pmatrix}=\n",
    "\\begin{pmatrix}\n",
    "0 & 0 & \\sqrt{\\frac{\\kappa_{11}}{m_1}} & \\sqrt{\\frac{\\kappa_{12}}{m_1}} & 0\\\\\n",
    "0 & 0 & 0 & -\\sqrt{\\frac{\\kappa_{12}}{m_2}} & \\sqrt{\\frac{\\kappa_{22}}{m_2}}\\\\\n",
    "\\sqrt{\\frac{\\kappa_{11}}{m_1}} & 0 & 0 & 0 & 0\\\\\n",
    "\\sqrt{\\frac{\\kappa_{12}}{m_1}} & -\\sqrt{\\frac{\\kappa_{12}}{m_2}} & 0 & 0 & 0\\\\\n",
    "0 & \\sqrt{\\frac{\\kappa_{22}}{m_2}} & 0 & 0 & 0\n",
    "\\end{pmatrix}\n",
    "\\quad (15)\n",
    "$\n",
    "\n",
    "As discussed in the main paper, it is convenient to pad the $\\textbf{B}$ and $\\textbf{H}$ matrices with zeros to make them square matrices of dimensionality that is a power of 2. Thus, we will call $\\bar{\\textbf{B}}$ the padded version of $\\textbf{B}$ which is a $N^2\\times N^2$ matrix. Similarly, we define the $\\bar{\\textbf{H}}$ as the padded version of the Hamiltonian, which is a $2N^2\\times 2N^2$ matrix. Note that $\\textbf{B}$ is a $N\\times M$ matrix, where $M=\\frac{N(N+1)}{2}$, $\\textbf{H}$ is a $(N+M)\\times (N+M)$ matrix. Their padded versions are $\\bar{\\textbf{B}}$ a $N^2\\times N^2$ matrix and $\\bar{\\textbf{H}}$ is a $2N^2\\times 2N^2$ matrix. \n",
    "\n",
    "For our concrete example of the $N=3$ oscillators, the padded versions are:\n",
    "\n",
    "$\n",
    "\\bar{\\textbf{B}}=\n",
    "\\begin{pmatrix}\n",
    "\\sqrt{\\frac{\\kappa_{11}}{m_1}} & \\sqrt{\\frac{\\kappa_{12}}{m_1}} & 0 & 0\\\\\n",
    "0 & -\\sqrt{\\frac{\\kappa_{12}}{m_2}} & \\sqrt{\\frac{\\kappa_{22}}{m_2}} & 0 \\\\\n",
    "0 & 0 & 0 & 0\\\\\n",
    "0 & 0 & 0 & 0\n",
    "\\end{pmatrix} \\quad (16)\n",
    "$\n",
    "\n",
    "Then, the padded Hamiltonian is\n",
    "\n",
    "$\n",
    "\\bar{\\textbf{H}}=\n",
    "\\begin{pmatrix}\n",
    "0 & 0 & 0 & 0 & \\sqrt{\\frac{\\kappa_{11}}{m_1}} & \\sqrt{\\frac{\\kappa_{12}}{m_1}} & 0 & 0\\\\\n",
    "0 & 0 & 0 & 0 & 0 & -\\sqrt{\\frac{\\kappa_{12}}{m_2}} & \\sqrt{\\frac{\\kappa_{22}}{m_2}} & 0\\\\\n",
    "0 & 0 & 0 & 0 & 0 & 0 & 0 & 0\\\\\n",
    "0 & 0 & 0 & 0 & 0 & 0 & 0 & 0\\\\\n",
    "\\sqrt{\\frac{\\kappa_{11}}{m_1}} & 0 & 0 & 0 & 0 & 0 & 0 & 0\\\\\n",
    "\\sqrt{\\frac{\\kappa_{12}}{m_1}} & -\\sqrt{\\frac{\\kappa_{12}}{m_2}} & 0 & 0 & 0 & 0 & 0 & 0\\\\\n",
    "0 & \\sqrt{\\frac{\\kappa_{22}}{m_2}} & 0 & 0 & 0 & 0 & 0 & 0\\\\\n",
    "0 & 0 & 0 & 0 & 0 & 0 & 0 & 0\n",
    "\\end{pmatrix} \\quad (17)\n",
    "$\n",
    "\n",
    "Below, we define all the important matrices described above and we write the code to construct the padded $\\bar{\\textbf{B}}$ matrix and Hamiltonian $\\bar{\\textbf{H}}$"
   ]
  },
  {
   "cell_type": "code",
   "execution_count": 4,
   "id": "415dc16a-cfe4-4b92-bd99-a7c6f102a94c",
   "metadata": {},
   "outputs": [
    {
     "name": "stdout",
     "output_type": "stream",
     "text": [
      "mass matrix: (M):\n",
      "[[1000    0]\n",
      " [   0 2000]]\n",
      "\n",
      "(Spring Constants Matrix) K:\n",
      "[[2 1]\n",
      " [1 2]]\n",
      "\n",
      " Sq_K matrix:\n",
      "[[1.41421356 1.        ]\n",
      " [1.         1.41421356]]\n",
      "\n",
      " F matrix:\n",
      "[[ 3 -1]\n",
      " [-1  3]]\n",
      "\n",
      " A matrix:\n",
      "[[ 0.003      -0.00070711]\n",
      " [-0.00070711  0.0015    ]]\n",
      "\n",
      "Q Matrix:\n",
      "[[ 1.41421356  1.          0.        ]\n",
      " [ 0.         -1.          1.41421356]]\n",
      "\n",
      "B Matrix:\n",
      "[[ 0.04472136  0.03162278  0.        ]\n",
      " [ 0.         -0.02236068  0.03162278]]\n",
      "\n",
      "Padded B Matrix (B_pad):\n",
      "[[ 0.04472136  0.03162278  0.          0.        ]\n",
      " [ 0.         -0.02236068  0.03162278  0.        ]\n",
      " [ 0.          0.          0.          0.        ]\n",
      " [ 0.          0.          0.          0.        ]]\n",
      "\n",
      "Hamiltonian (H):\n",
      "[[ 0.          0.          0.04472136  0.03162278  0.        ]\n",
      " [ 0.          0.          0.         -0.02236068  0.03162278]\n",
      " [ 0.04472136  0.          0.          0.          0.        ]\n",
      " [ 0.03162278 -0.02236068  0.          0.          0.        ]\n",
      " [ 0.          0.03162278  0.          0.          0.        ]]\n",
      "\n",
      "Padded Hamiltonian (H_pad):\n",
      "[[ 0.          0.          0.          0.          0.04472136  0.03162278\n",
      "   0.          0.        ]\n",
      " [ 0.          0.          0.          0.          0.         -0.02236068\n",
      "   0.03162278  0.        ]\n",
      " [ 0.          0.          0.          0.          0.          0.\n",
      "   0.          0.        ]\n",
      " [ 0.          0.          0.          0.          0.          0.\n",
      "   0.          0.        ]\n",
      " [ 0.04472136  0.          0.          0.          0.          0.\n",
      "   0.          0.        ]\n",
      " [ 0.03162278 -0.02236068  0.          0.          0.          0.\n",
      "   0.          0.        ]\n",
      " [ 0.          0.03162278  0.          0.          0.          0.\n",
      "   0.          0.        ]\n",
      " [ 0.          0.          0.          0.          0.          0.\n",
      "   0.          0.        ]]\n"
     ]
    }
   ],
   "source": [
    "import numpy as np\n",
    "\n",
    "# Number of oscillators\n",
    "N=2\n",
    "\n",
    "# Specify here manually the masses and the three spring constants (We pick values which results to integers when taken the sqrt.)\n",
    "m1=1000\n",
    "m2=2000\n",
    "κ11=2\n",
    "κ22=2\n",
    "κ12=1\n",
    "\n",
    "#M-matrix: Mass matrix\n",
    "M=np.diag([m1, m2])\n",
    "# Compute the inverse square root of the mass matrix\n",
    "inv_sqrt_M = np.diag(1 / np.sqrt(np.diag(M)))\n",
    "\n",
    "#K-matrix: matrix of the spring constants\n",
    "K = np.array([\n",
    "    [κ11, κ12],\n",
    "    [κ12, κ22]\n",
    "])\n",
    "\n",
    "# Sq_K matrix whose elements are the square root of the elements of the K matrix \n",
    "Sq_K=np.sqrt(K)\n",
    "\n",
    "#F-matrix:\n",
    "F = np.array([\n",
    "    [κ11+κ12, -κ12],\n",
    "    [-κ12, κ12+κ22]\n",
    "])\n",
    "\n",
    "#A-matrix\n",
    "A = inv_sqrt_M @ F @ inv_sqrt_M\n",
    "\n",
    "# Initialize the Q matrix (N x (N*(N+1)/2))\n",
    "Q = np.zeros((N, N * (N + 1) // 2))\n",
    "\n",
    "# Fill the Q matrix based on the formula\n",
    "column = 0\n",
    "for j in range(N):\n",
    "    for k in range(j, N):\n",
    "        if j == k:\n",
    "            Q[j, column] = Sq_K[j, k]\n",
    "        else:\n",
    "            Q[j, column] = Sq_K[j, k]\n",
    "            Q[k, column] = -Sq_K[j, k]\n",
    "        column += 1\n",
    "\n",
    "# Compute the B matrix\n",
    "B = inv_sqrt_M @ Q\n",
    "\n",
    "# Create the padded B matrix B_pad\n",
    "B_pad = np.zeros((N**2, N**2))\n",
    "B_pad[:N, :B.shape[1]] = B\n",
    "\n",
    "# Construct the Hamiltonian H\n",
    "size_H = N + N * (N + 1) // 2\n",
    "H = np.zeros((size_H, size_H))\n",
    "H[:N, N:] = B\n",
    "H[N:, :N] = B.T\n",
    "\n",
    "# Construct the padded Hamiltonian H_pad\n",
    "size_H_pad = 2 * N**2\n",
    "H_pad = np.zeros((size_H_pad, size_H_pad))\n",
    "H_pad[:N**2, N**2:] = B_pad\n",
    "H_pad[N**2:, :N**2] = B_pad.T\n",
    "\n",
    "# Print the matrices\n",
    "print(\"mass matrix: (M):\")\n",
    "print(M)\n",
    "print(\"\\n(Spring Constants Matrix) K:\")\n",
    "print(K)\n",
    "print(\"\\n Sq_K matrix:\")\n",
    "print(Sq_K)\n",
    "print(\"\\n F matrix:\")\n",
    "print(F)\n",
    "print(\"\\n A matrix:\")\n",
    "print(A)\n",
    "print(\"\\nQ Matrix:\")\n",
    "print(Q)\n",
    "print(\"\\nB Matrix:\")\n",
    "print(B)\n",
    "print(\"\\nPadded B Matrix (B_pad):\")\n",
    "print(B_pad)\n",
    "print(\"\\nHamiltonian (H):\")\n",
    "print(H)\n",
    "print(\"\\nPadded Hamiltonian (H_pad):\")\n",
    "print(H_pad)"
   ]
  },
  {
   "cell_type": "markdown",
   "id": "9e5f8eed-e560-4e46-bb47-4bf15dd1e415",
   "metadata": {},
   "source": [
    "### LCU Pauli Strings decomposition of the Hamiltonian matrix $\\bar{\\textbf{H}}$\n",
    "\n",
    "\\textbf{Important clarification point}: The padded Hamiltonian $\\bar{\\textbf{H}}$ has dimensionality $2N^2\\times 2N^2$, where $N=2^n$, i.e. is a power of 2. In other words, the padded Hamiltonian is a $(2^{2n+1})\\times (2^{2n+1})$. This is the dimensionality of a Hamiltonian acting on the Hilbert space of 3 qubits. For the case of the 2 oscillators, the Hamiltonian is equivalent to one acting on the space of 3 qubits. Hence, when the Hamiltonain is decomposed to a series of Pauli strings, we need strings made of 3 Pauli matrices.\n",
    "\n",
    "Any hermitian operator acting on a Hilbert space $\\mathcal{H}$ can be decomposed to a sum of the identity and Pauli matrices tensor products as\n",
    "\n",
    "$\\textbf{H}=\\sum_{i=0}^3\\sum_{j=0}^3\\sum_{k=0}^3c_{ijk}\\,\\textbf{P}_i\\otimes \\textbf{P}_j \\otimes \\textbf{P}_k \\quad (18)$\n",
    "\n",
    "where $\\textbf{P}_i=\\left(\\textbf{I}, \\textbf{X}, \\textbf{Y}, \\textbf{Z}\\right)$ forms a basis with an orthonormal product given by \n",
    "\n",
    "$\n",
    "\\langle \\textbf{P}_i, \\textbf{P}_{i^\\prime} \\rangle=\\frac{1}{2}\\text{Tr}\\left[\\textbf{P}_i\\textbf{P}_{i}^\\prime\\right]=\\delta_{ii^\\prime} \\quad (19).\n",
    "$ \n",
    "\n",
    "For the 3-qubits case, the orthonormality reads\n",
    "\n",
    "$\n",
    "\\langle \\textbf{P}_i\\otimes \\textbf{P}_j \\otimes \\textbf{P}_k, \\textbf{P}_{i^\\prime}\\otimes \\textbf{P}_{j^\\prime} \\otimes \\textbf{P}_{k^\\prime} \\rangle=\\frac{1}{2^3}\\text{Tr}\\left[\\left(\\textbf{P}_i\\otimes \\textbf{P}_j \\otimes \\textbf{P}_k\\right)\\left(\\textbf{P}_{i^\\prime}\\otimes \\textbf{P}_{j^\\prime} \\otimes \\textbf{P}_{k^\\prime}\\right)\\right]=\\delta_{ii^\\prime}\\delta_{jj^\\prime}\\delta_{kk^\\prime} \\quad (20).\n",
    "$\n",
    "\n",
    "The Hamiltonian of the corresponding to the 3 oscillators that maps the evolution to that of a 3-qubit system is decomposed to the LCU Paili basis $(\\textbf{P}_i\\otimes \\textbf{P}_j\\otimes \\textbf{P}_k)$ according to equation (7) and the expansion coefficients are given by\n",
    "\n",
    "$\n",
    "c_{ijk}=\\frac{1}{8}\\text{Tr}\\left[\\left(\\textbf{P}_i\\otimes\\textbf{P}_j\\otimes\\textbf{P}_k\\right)\\textbf{H}\\right] \\quad (21).\n",
    "$\n",
    "\n",
    "The code below computes the $c_{ijk}$ coefficients from which it constructs the LCU decomposition (18)."
   ]
  },
  {
   "cell_type": "code",
   "execution_count": 7,
   "id": "2b6e3f61-0c0c-41c5-87d9-557000c42dbc",
   "metadata": {},
   "outputs": [
    {
     "name": "stdout",
     "output_type": "stream",
     "text": [
      "Decomposition of H_pad into Pauli strings:\n",
      "0.01 * XII\n",
      "0.01 * XIX\n",
      "0.02 * XIZ\n",
      "0.01 * XXX\n",
      "0.01 * XYY\n",
      "0.01 * XZI\n",
      "0.01 * XZX\n",
      "0.02 * XZZ\n",
      "-0.01 * YIY\n",
      "0.01 * YXY\n",
      "-0.01 * YYX\n",
      "-0.01 * YZY\n",
      "------------------------------------------------------------------------------------------------------------------------------------------\n",
      "Verification\n",
      "\n",
      "Original Hamiltonian H_pad:\n",
      "[[ 0.          0.          0.          0.          0.04472136  0.03162278\n",
      "   0.          0.        ]\n",
      " [ 0.          0.          0.          0.          0.         -0.02236068\n",
      "   0.03162278  0.        ]\n",
      " [ 0.          0.          0.          0.          0.          0.\n",
      "   0.          0.        ]\n",
      " [ 0.          0.          0.          0.          0.          0.\n",
      "   0.          0.        ]\n",
      " [ 0.04472136  0.          0.          0.          0.          0.\n",
      "   0.          0.        ]\n",
      " [ 0.03162278 -0.02236068  0.          0.          0.          0.\n",
      "   0.          0.        ]\n",
      " [ 0.          0.03162278  0.          0.          0.          0.\n",
      "   0.          0.        ]\n",
      " [ 0.          0.          0.          0.          0.          0.\n",
      "   0.          0.        ]]\n",
      "\n",
      "Reconstructed Hamiltonian H_reconstructed:\n",
      "[[ 0.        +0.j  0.        +0.j  0.        +0.j  0.        +0.j\n",
      "   0.04472136+0.j  0.03162278+0.j  0.        +0.j  0.        +0.j]\n",
      " [ 0.        +0.j  0.        +0.j  0.        +0.j  0.        +0.j\n",
      "   0.        +0.j -0.02236068+0.j  0.03162278+0.j  0.        +0.j]\n",
      " [ 0.        +0.j  0.        +0.j  0.        +0.j  0.        +0.j\n",
      "   0.        +0.j  0.        +0.j  0.        +0.j  0.        +0.j]\n",
      " [ 0.        +0.j  0.        +0.j  0.        +0.j  0.        +0.j\n",
      "   0.        +0.j  0.        +0.j  0.        +0.j  0.        +0.j]\n",
      " [ 0.04472136+0.j  0.        +0.j  0.        +0.j  0.        +0.j\n",
      "   0.        +0.j  0.        +0.j  0.        +0.j  0.        +0.j]\n",
      " [ 0.03162278+0.j -0.02236068+0.j  0.        +0.j  0.        +0.j\n",
      "   0.        +0.j  0.        +0.j  0.        +0.j  0.        +0.j]\n",
      " [ 0.        +0.j  0.03162278+0.j  0.        +0.j  0.        +0.j\n",
      "   0.        +0.j  0.        +0.j  0.        +0.j  0.        +0.j]\n",
      " [ 0.        +0.j  0.        +0.j  0.        +0.j  0.        +0.j\n",
      "   0.        +0.j  0.        +0.j  0.        +0.j  0.        +0.j]]\n",
      "\n",
      "Difference (H_pad - H_reconstructed):\n",
      "[[0.00000000e+00+0.j 0.00000000e+00+0.j 0.00000000e+00+0.j\n",
      "  0.00000000e+00+0.j 0.00000000e+00+0.j 0.00000000e+00+0.j\n",
      "  0.00000000e+00+0.j 0.00000000e+00+0.j]\n",
      " [0.00000000e+00+0.j 0.00000000e+00+0.j 0.00000000e+00+0.j\n",
      "  0.00000000e+00+0.j 0.00000000e+00+0.j 3.46944695e-18+0.j\n",
      "  0.00000000e+00+0.j 0.00000000e+00+0.j]\n",
      " [0.00000000e+00+0.j 0.00000000e+00+0.j 0.00000000e+00+0.j\n",
      "  0.00000000e+00+0.j 0.00000000e+00+0.j 0.00000000e+00+0.j\n",
      "  0.00000000e+00+0.j 0.00000000e+00+0.j]\n",
      " [0.00000000e+00+0.j 0.00000000e+00+0.j 0.00000000e+00+0.j\n",
      "  0.00000000e+00+0.j 0.00000000e+00+0.j 0.00000000e+00+0.j\n",
      "  0.00000000e+00+0.j 0.00000000e+00+0.j]\n",
      " [0.00000000e+00+0.j 0.00000000e+00+0.j 0.00000000e+00+0.j\n",
      "  0.00000000e+00+0.j 0.00000000e+00+0.j 0.00000000e+00+0.j\n",
      "  0.00000000e+00+0.j 0.00000000e+00+0.j]\n",
      " [0.00000000e+00+0.j 3.46944695e-18+0.j 0.00000000e+00+0.j\n",
      "  0.00000000e+00+0.j 0.00000000e+00+0.j 0.00000000e+00+0.j\n",
      "  0.00000000e+00+0.j 0.00000000e+00+0.j]\n",
      " [0.00000000e+00+0.j 0.00000000e+00+0.j 0.00000000e+00+0.j\n",
      "  0.00000000e+00+0.j 0.00000000e+00+0.j 0.00000000e+00+0.j\n",
      "  0.00000000e+00+0.j 0.00000000e+00+0.j]\n",
      " [0.00000000e+00+0.j 0.00000000e+00+0.j 0.00000000e+00+0.j\n",
      "  0.00000000e+00+0.j 0.00000000e+00+0.j 0.00000000e+00+0.j\n",
      "  0.00000000e+00+0.j 0.00000000e+00+0.j]]\n",
      "\n",
      "Reconstruction successful?: True\n"
     ]
    }
   ],
   "source": [
    "import numpy as np\n",
    "from itertools import product\n",
    "\n",
    "# Number of qubits\n",
    "k=2*(int(np.log2(N)))+1\n",
    "\n",
    "# Define Pauli matrices and identity matrix\n",
    "I = np.array([[1, 0], [0, 1]])\n",
    "X = np.array([[0, 1], [1, 0]])\n",
    "Y = np.array([[0, -1j], [1j, 0]])\n",
    "Z = np.array([[1, 0], [0, -1]])\n",
    "\n",
    "pauli_matrices = [I, X, Y, Z]\n",
    "pauli_labels = ['I', 'X', 'Y', 'Z']\n",
    "\n",
    "def generate_pauli_strings(k):\n",
    "    \"\"\"Generate all tensor products of k Pauli matrices\"\"\"\n",
    "    pauli_strings = []\n",
    "    labels = []\n",
    "    for prods in product(range(4), repeat=k):\n",
    "        ps = pauli_matrices[prods[0]]\n",
    "        label = pauli_labels[prods[0]]\n",
    "        for i in range(1, k):\n",
    "            ps = np.kron(ps, pauli_matrices[prods[i]])\n",
    "            label += pauli_labels[prods[i]]\n",
    "        pauli_strings.append(ps)\n",
    "        labels.append(label)\n",
    "    return pauli_strings, labels\n",
    "\n",
    "def decompose_hamiltonian(H):\n",
    "    \"\"\"Decompose Hamiltonian into Pauli strings\"\"\"\n",
    "    w = H.shape[0]\n",
    "    pauli_strings, labels = generate_pauli_strings(k)\n",
    "    \n",
    "    #coeffs = [np.trace(np.dot(ps, H)) / w for ps in pauli_strings]\n",
    "    coeffs = [np.real(np.trace(np.dot(ps, H)) / w) for ps in pauli_strings]\n",
    "    \n",
    "    decomposition = {label: coef for label, coef in zip(labels, coeffs)}\n",
    "    \n",
    "    return decomposition, pauli_strings, coeffs\n",
    "\n",
    "def reconstruct_hamiltonian(pauli_strings, coefficients):\n",
    "    \"\"\"Reconstruct Hamiltonian from Pauli strings and coefficients\"\"\"\n",
    "    H_reconstructed = sum(c * ps for c, ps in zip(coefficients, pauli_strings))\n",
    "    return H_reconstructed\n",
    "\n",
    "# Decompose the Hamiltonian\n",
    "decomposition, pauli_strings, coeffs = decompose_hamiltonian(H_pad)\n",
    "\n",
    "# Print the decomposition\n",
    "print(\"Decomposition of H_pad into Pauli strings:\")\n",
    "for label, coef in decomposition.items():\n",
    "    if not np.isclose(coef, 0):\n",
    "        print(f\"{coef:.2f} * {label}\")\n",
    "print(\"------------------------------------------------------------------------------------------------------------------------------------------\")\n",
    "\n",
    "# Reconstruct the Hamiltonian\n",
    "H_reconstructed = reconstruct_hamiltonian(pauli_strings, coeffs)\n",
    "\n",
    "# Verification part\n",
    "print(\"Verification\")\n",
    "print(\"\\nOriginal Hamiltonian H_pad:\")\n",
    "print(H_pad)\n",
    "print(\"\\nReconstructed Hamiltonian H_reconstructed:\")\n",
    "print(H_reconstructed)\n",
    "print(\"\\nDifference (H_pad - H_reconstructed):\")\n",
    "print(H_pad - H_reconstructed)\n",
    "print(\"\\nReconstruction successful?:\", np.allclose(H_pad, H_reconstructed))\n"
   ]
  },
  {
   "cell_type": "markdown",
   "id": "39d9922d-f94d-447d-9fc7-c55d12c9da19",
   "metadata": {},
   "source": [
    "### Block Encoding of the (padded) Hamiltonian matrix"
   ]
  },
  {
   "cell_type": "markdown",
   "id": "eb8aa552-b765-4d5a-b740-9cb9db16b43e",
   "metadata": {},
   "source": [
    "Since LCU coefficients of the Pauli term expansion of our Hamiltonian can be negative, we apply a unitary $U\\_minus = \\begin{pmatrix} -1 & 0 \\\\ 0 & -1 \\end{pmatrix}$ to the data register whenever `pauli_string.coefficient < 0` thereby utilizing phase kicback to apply the negative amplitude on the controls operating LCU"
   ]
  },
  {
   "cell_type": "code",
   "execution_count": 11,
   "id": "df5fe8f5-1b72-4f77-98b5-e551d0567fc8",
   "metadata": {},
   "outputs": [],
   "source": [
    "import matplotlib.pyplot as plt\n",
    "import numpy as np\n",
    "import scipy\n",
    "\n",
    "from classiq import *\n",
    "from classiq.execution import (\n",
    "    ClassiqBackendPreferences,\n",
    "    ClassiqSimulatorBackendNames,\n",
    "    ExecutionPreferences,\n",
    ")\n",
    "from classiq.qmod.symbolic import pi\n",
    "\n",
    "def get_normalized_lcu_coef(lcu_coef):\n",
    "\n",
    "    normalization_factor = sum(np.abs(lcu_coef))\n",
    "    prepare_prob = [c / normalization_factor for c in lcu_coef]\n",
    "    coef_size = int(np.ceil(np.log2(len(prepare_prob))))\n",
    "    prepare_prob += [0] * (2**coef_size - len(prepare_prob))\n",
    "\n",
    "    print(\"The size of the block encoding:\", coef_size)\n",
    "    print(\"\\n The normalized coefficients:\", prepare_prob)\n",
    "    print(\"\\n The normalization factor:\", normalization_factor)\n",
    "\n",
    "    return normalization_factor, coef_size, prepare_prob\n",
    "\n",
    "\n",
    "U_minus = [[-1,0],[0,-1]]\n",
    "# def apply_pauli_term_gate(x: QArray[QBit], case: int, index: int, coeff):\n",
    "#     if case == 0:\n",
    "#         IDENTITY(x[index])\n",
    "#     elif case==1:\n",
    "#         X(x[index]),\n",
    "#     elif case==2:\n",
    "#         Y(x[index]),\n",
    "#     else: \n",
    "#         Z(x[index]),\n",
    "#     if coeff < 0:\n",
    "#         unitary(U_minus, x)\n",
    "        \n",
    "    \n",
    "@qfunc\n",
    "def apply_pauli_term(pauli_string: PauliTerm, x: QArray[QBit]):\n",
    "    repeat(\n",
    "        count=x.len,\n",
    "        iteration=lambda index: (switch(\n",
    "                pauli_string.pauli[index],\n",
    "                [\n",
    "                    lambda: IDENTITY(x[pauli_string.pauli.len - index - 1]),\n",
    "                    lambda: X(x[pauli_string.pauli.len - index - 1]),\n",
    "                    lambda: Y(x[pauli_string.pauli.len - index - 1]),\n",
    "                    lambda: Z(x[pauli_string.pauli.len - index - 1]),\n",
    "                ],\n",
    "            ), \n",
    "            if_(\n",
    "                condition=(pauli_string.coefficient < 0),\n",
    "                then=lambda: unitary(U_minus, x[0])\n",
    "            )\n",
    "        )\n",
    "        # apply_pauli_term_gate(x, index, pauli_string.pauli.len - index - 1, pauli_string.coefficient)\n",
    "    )\n",
    "\n",
    "\n",
    "@qfunc\n",
    "def lcu_paulis(\n",
    "    pauli_terms_list: CArray[PauliTerm],\n",
    "    probs: CArray[CReal],\n",
    "    block: QNum,\n",
    "    data: QArray[QBit],\n",
    "):\n",
    "    within_apply(\n",
    "        lambda: inplace_prepare_state(probs, 0.0, block),\n",
    "        lambda: repeat(\n",
    "            count=pauli_terms_list.len,\n",
    "            iteration=lambda i: control(\n",
    "                block == i, lambda: apply_pauli_term(pauli_terms_list[i], data)\n",
    "            ),\n",
    "        ),\n",
    "    )\n",
    "\n",
    "## fix the execution preferences for this tutorial\n",
    "Execution_Prefs = ExecutionPreferences(\n",
    "    num_shots=1,\n",
    "    backend_preferences=ClassiqBackendPreferences(\n",
    "        backend_name=ClassiqSimulatorBackendNames.SIMULATOR_STATEVECTOR\n",
    "    ),\n",
    "    timeout=10000\n",
    ")\n",
    "\n",
    "def get_projected_state_vector(\n",
    "    execution_result,\n",
    "    measured_var: str,\n",
    "    projections: dict,\n",
    ") -> np.ndarray:\n",
    "    \"\"\"\n",
    "    This function returns a reduced statevector from execution results.\n",
    "    measured var: the name of the reduced variable\n",
    "    projections: on which values of the other variables to project, e.g., {\"ind\": 1}\n",
    "    \"\"\"\n",
    "    projected_size = len(execution_result[0].value.output_qubits_map[measured_var])\n",
    "    proj_statevector = np.zeros(2**projected_size).astype(complex)\n",
    "    for sample in execution_result[0].value.parsed_state_vector:\n",
    "        if all(sample.state[key] == projections[key] for key in projections.keys()):\n",
    "            proj_statevector[int(sample.state[measured_var])] += sample.amplitude\n",
    "    return proj_statevector"
   ]
  },
  {
   "cell_type": "code",
   "execution_count": 12,
   "id": "ad209f08-5f6c-4ba2-ac66-e5dd81f48271",
   "metadata": {},
   "outputs": [],
   "source": [
    "\"\"\"\n",
    "Generating the HAMILTONIAN variable that is input to the function lcu_paulis() connecting our LCU decomposition \n",
    "to the next steps of block encoding\n",
    "\"\"\"\n",
    "HAMILTONIAN = [\n",
    "    PauliTerm(pauli=[getattr(Pauli, label) for label in term], coefficient=coeff)\n",
    "    for term, coeff in zip(decomposition.keys(), coeffs) if not np.isclose(coeff, 0)\n",
    "]"
   ]
  },
  {
   "cell_type": "code",
   "execution_count": 13,
   "id": "7a080854-70ab-4ae6-8974-54b44ea38690",
   "metadata": {},
   "outputs": [
    {
     "name": "stdout",
     "output_type": "stream",
     "text": [
      "The size of the block encoding: 4\n",
      "\n",
      " The normalized coefficients: [0.051776695296636886, 0.07322330470336312, 0.15533008588991068, 0.07322330470336313, 0.07322330470336313, 0.051776695296636886, 0.07322330470336312, 0.15533008588991068, 0.07322330470336312, 0.07322330470336313, 0.07322330470336313, 0.07322330470336312, 0, 0, 0, 0]\n",
      "\n",
      " The normalization factor: 0.10796691275336337\n"
     ]
    }
   ],
   "source": [
    "\"\"\"\n",
    "For the case of the two oscillators N=2, we also construct the HAMILTONIAN matrix manually to compare it with the automated construction \n",
    "of the previous cell and verify that the previous code is correct  \n",
    "\"\"\"\n",
    "# HAMILTONIAN_manually = [\n",
    "#     PauliTerm(pauli=[Pauli.X, Pauli.I, Pauli.I], coefficient=0.25),\n",
    "#     PauliTerm(pauli=[Pauli.X, Pauli.I, Pauli.X], coefficient=0.50),\n",
    "#     PauliTerm(pauli=[Pauli.X, Pauli.I, Pauli.Z], coefficient=1.25),\n",
    "#     PauliTerm(pauli=[Pauli.X, Pauli.X, Pauli.X], coefficient=0.75),\n",
    "#     PauliTerm(pauli=[Pauli.X, Pauli.Y, Pauli.Y], coefficient=0.75),\n",
    "#     PauliTerm(pauli=[Pauli.X, Pauli.Z, Pauli.I], coefficient=0.25),\n",
    "#     PauliTerm(pauli=[Pauli.X, Pauli.Z, Pauli.X], coefficient=0.50),\n",
    "#     PauliTerm(pauli=[Pauli.X, Pauli.Z, Pauli.Z], coefficient=1.25),\n",
    "#     PauliTerm(pauli=[Pauli.Y, Pauli.I, Pauli.Y], coefficient=-0.50),\n",
    "#     PauliTerm(pauli=[Pauli.Y, Pauli.X, Pauli.Y], coefficient=0.75),\n",
    "#     PauliTerm(pauli=[Pauli.Y, Pauli.Y, Pauli.X], coefficient=-0.75),\n",
    "#     PauliTerm(pauli=[Pauli.Y, Pauli.Z, Pauli.Y], coefficient=-0.50)\n",
    "# ]\n",
    "\n",
    "\n",
    "\"\"\"\n",
    "We store the coefficients of the expansion in lcu_pauli_coef to imput them in the get_normalized_lcu_coef() function and \n",
    "obtain the normalization factor, the normalized Hamiltonian, and its preparation probabilities.\n",
    "\"\"\"\n",
    "lcu_pauli_coef = [c.real for c in coeffs if c.real != 0]\n",
    "\n",
    "# normalization_factor = sum(np.abs(lcu_pauli_coef))\n",
    "# lcu_pauli_coef2=[]\n",
    "# lcu_pauli_coef2 = [abs(c) / normalization_factor for c in lcu_pauli_coef] \n",
    "\n",
    "normalization_ham, lcu_size_ham, prepare_probs_ham = get_normalized_lcu_coef(\n",
    "    #lcu_pauli_coef\n",
    "    np.abs(lcu_pauli_coef).tolist()\n",
    ")"
   ]
  },
  {
   "cell_type": "code",
   "execution_count": 14,
   "id": "9b48f382-6bee-43a5-9d74-57b22c38cfee",
   "metadata": {},
   "outputs": [
    {
     "data": {
      "text/plain": [
       "False"
      ]
     },
     "execution_count": 14,
     "metadata": {},
     "output_type": "execute_result"
    }
   ],
   "source": [
    "HAMILTONIAN[0].coefficient < 0"
   ]
  },
  {
   "cell_type": "code",
   "execution_count": 15,
   "id": "6bdd8bc8-e6d2-4769-8bbe-893c3c6ee74a",
   "metadata": {},
   "outputs": [
    {
     "data": {
      "text/plain": [
       "[PauliTerm(pauli=[<Pauli.X: 1>, <Pauli.I: 0>, <Pauli.I: 0>], coefficient=0.005590169943749474),\n",
       " PauliTerm(pauli=[<Pauli.X: 1>, <Pauli.I: 0>, <Pauli.X: 1>], coefficient=0.007905694150420948),\n",
       " PauliTerm(pauli=[<Pauli.X: 1>, <Pauli.I: 0>, <Pauli.Z: 3>], coefficient=0.016770509831248424),\n",
       " PauliTerm(pauli=[<Pauli.X: 1>, <Pauli.X: 1>, <Pauli.X: 1>], coefficient=0.00790569415042095),\n",
       " PauliTerm(pauli=[<Pauli.X: 1>, <Pauli.Y: 2>, <Pauli.Y: 2>], coefficient=0.00790569415042095),\n",
       " PauliTerm(pauli=[<Pauli.X: 1>, <Pauli.Z: 3>, <Pauli.I: 0>], coefficient=0.005590169943749474),\n",
       " PauliTerm(pauli=[<Pauli.X: 1>, <Pauli.Z: 3>, <Pauli.X: 1>], coefficient=0.007905694150420948),\n",
       " PauliTerm(pauli=[<Pauli.X: 1>, <Pauli.Z: 3>, <Pauli.Z: 3>], coefficient=0.016770509831248424),\n",
       " PauliTerm(pauli=[<Pauli.Y: 2>, <Pauli.I: 0>, <Pauli.Y: 2>], coefficient=-0.007905694150420948),\n",
       " PauliTerm(pauli=[<Pauli.Y: 2>, <Pauli.X: 1>, <Pauli.Y: 2>], coefficient=0.00790569415042095),\n",
       " PauliTerm(pauli=[<Pauli.Y: 2>, <Pauli.Y: 2>, <Pauli.X: 1>], coefficient=-0.00790569415042095),\n",
       " PauliTerm(pauli=[<Pauli.Y: 2>, <Pauli.Z: 3>, <Pauli.Y: 2>], coefficient=-0.007905694150420948)]"
      ]
     },
     "execution_count": 15,
     "metadata": {},
     "output_type": "execute_result"
    }
   ],
   "source": [
    "HAMILTONIAN"
   ]
  },
  {
   "cell_type": "code",
   "execution_count": 16,
   "id": "6b1da7e8-9d80-4fb7-9328-d4a5a49fe42c",
   "metadata": {},
   "outputs": [
    {
     "name": "stdout",
     "output_type": "stream",
     "text": [
      "[0.051776695296636886, 0.07322330470336312, 0.15533008588991068, 0.07322330470336313, 0.07322330470336313, 0.051776695296636886, 0.07322330470336312, 0.15533008588991068, 0.07322330470336312, 0.07322330470336313, 0.07322330470336313, 0.07322330470336312, 0, 0, 0, 0]\n"
     ]
    }
   ],
   "source": [
    "print(prepare_probs_ham)"
   ]
  },
  {
   "cell_type": "code",
   "execution_count": 23,
   "id": "37a61975-254d-48ec-8e96-ab0e9ca97295",
   "metadata": {},
   "outputs": [
    {
     "data": {
      "text/plain": [
       "1.0000000000000002"
      ]
     },
     "execution_count": 23,
     "metadata": {},
     "output_type": "execute_result"
    }
   ],
   "source": [
    "np.sum(prepare_probs_ham)"
   ]
  },
  {
   "cell_type": "markdown",
   "id": "3d5cc028-c214-4094-b04b-0afa35dcebfb",
   "metadata": {},
   "source": [
    "### State preparation\n",
    "\n",
    "Now, we construct the initial state:\n",
    "\n",
    "$\n",
    "\\ket{\\psi_o}=\n",
    "\\begin{pmatrix}\n",
    "\\dot{\\vec{y}}(0)\\\\\n",
    "i\\textbf{B}^\\dagger\\vec{y}(0)\n",
    "\\end{pmatrix}, \\quad (22)\n",
    "$\n",
    "\n",
    "Note that the vector (22) is $(N+M)$-dimensional where $M=N*(N+1)/2$. We want to work with the power of 2 dimensions. This can be achieved by working with the padded $\\bar{\\textbf{B}}$ matrix. Then, the resulting initial quantum state where the initial positions and velocities are encoded is:\n",
    "\n",
    "$\n",
    "\\ket{\\psi_o}=\n",
    "\\begin{pmatrix}\n",
    "\\dot{\\vec{y}}(0)\\\\\n",
    "i\\bar{\\textbf{B}}^\\dagger\\vec{y}(0)\n",
    "\\end{pmatrix}, \\quad (23)\n",
    "$\n"
   ]
  },
  {
   "cell_type": "code",
   "execution_count": 26,
   "id": "5c7f6066-2552-465a-bb39-7a0f11b99b5d",
   "metadata": {},
   "outputs": [
    {
     "name": "stdout",
     "output_type": "stream",
     "text": [
      "ydot_pad_o:\n",
      "[0.60609721 0.93369564 0.         0.        ]\n",
      "\n",
      "y_pad_o:\n",
      "[-0.58208226 -0.72187873  0.          0.        ]\n",
      "\n",
      "psi_pad_o:\n",
      "[ 0.60609721+0.j          0.93369564+0.j          0.        +0.j\n",
      "  0.        +0.j         -0.        -0.02603151j -0.        -0.00226536j\n",
      " -0.        -0.02282781j  0.        +0.j        ]\n",
      "\n",
      "Initial amplitudes without imaginary phase (amps):\n",
      "[ 0.5442156   0.83836673  0.          0.         -0.02337373 -0.00203407\n",
      " -0.02049713  0.        ]\n",
      "\n",
      "U_matrix:\n",
      "[[1.+0.j 0.+0.j 0.+0.j 0.+0.j 0.+0.j 0.+0.j 0.+0.j 0.+0.j]\n",
      " [0.+0.j 1.+0.j 0.+0.j 0.+0.j 0.+0.j 0.+0.j 0.+0.j 0.+0.j]\n",
      " [0.+0.j 0.+0.j 1.+0.j 0.+0.j 0.+0.j 0.+0.j 0.+0.j 0.+0.j]\n",
      " [0.+0.j 0.+0.j 0.+0.j 1.+0.j 0.+0.j 0.+0.j 0.+0.j 0.+0.j]\n",
      " [0.+0.j 0.+0.j 0.+0.j 0.+0.j 0.+1.j 0.+0.j 0.+0.j 0.+0.j]\n",
      " [0.+0.j 0.+0.j 0.+0.j 0.+0.j 0.+0.j 0.+1.j 0.+0.j 0.+0.j]\n",
      " [0.+0.j 0.+0.j 0.+0.j 0.+0.j 0.+0.j 0.+0.j 0.+1.j 0.+0.j]\n",
      " [0.+0.j 0.+0.j 0.+0.j 0.+0.j 0.+0.j 0.+0.j 0.+0.j 0.+1.j]]\n"
     ]
    }
   ],
   "source": [
    "import numpy as np\n",
    "\n",
    "\"\"\" \n",
    "Generate random N-dimensional lists ydot_o and y_o with elements between [-1, 1]\n",
    "\"\"\"\n",
    "ydot_o = np.random.uniform(-1, 1, N)\n",
    "y_o = np.random.uniform(-1, 1, N)\n",
    "\n",
    "\"\"\"\n",
    "Extend ydot_o and y_o to form ydot_pad_o and y_pad_o, respectively, with dimension N^2\n",
    "\"\"\"\n",
    "ydot_pad_o = np.pad(ydot_o, (0, N**2 - N), mode='constant', constant_values=0)\n",
    "y_pad_o = np.pad(y_o, (0, N**2 - N), mode='constant', constant_values=0)\n",
    "\n",
    "\"\"\"\n",
    "Calculate jB_pad^\\dagger y_pad_o (with j = 1j representing the imaginary unit)\n",
    "\"\"\"\n",
    "B_pad_dagger_y_pad_o = 1j * np.dot(B_pad.conj().T, y_pad_o)\n",
    "\n",
    "\"\"\"\n",
    "Construct the column vector psi_pad_o\n",
    "\"\"\"\n",
    "psi_pad_o = np.concatenate((ydot_pad_o, B_pad_dagger_y_pad_o))\n",
    "\n",
    "\"\"\"\n",
    "Store the real part of psi_pad_o to the variable amps\n",
    "\"\"\"\n",
    "#amps = np.real(psi_pad_o)\n",
    "amps = np.concatenate((np.real(psi_pad_o[:N**2]), np.imag(psi_pad_o[N**2:])))\n",
    "norm=np.linalg.norm(amps)\n",
    "amps = amps/np.linalg.norm(amps)\n",
    "\n",
    "\"\"\"\n",
    "Define the matrix U_matrix\n",
    "\"\"\"\n",
    "identity = np.eye(N**2)\n",
    "identity_j = 1j * np.eye(N**2)\n",
    "U_matrix = np.block([\n",
    "    [identity, np.zeros((N**2, N**2))],\n",
    "    [np.zeros((N**2, N**2)), identity_j]\n",
    "])\n",
    "\n",
    "\"\"\"\n",
    "Print the results\n",
    "\"\"\"\n",
    "print(\"ydot_pad_o:\")\n",
    "print(ydot_pad_o)\n",
    "print(\"\\ny_pad_o:\")\n",
    "print(y_pad_o)\n",
    "print(\"\\npsi_pad_o:\")\n",
    "print(psi_pad_o)\n",
    "print(\"\\nInitial amplitudes without imaginary phase (amps):\")\n",
    "print(amps)\n",
    "print(\"\\nU_matrix:\")\n",
    "print(U_matrix)\n"
   ]
  },
  {
   "cell_type": "code",
   "execution_count": 28,
   "id": "a4cf0f2e-252f-484d-8fe1-51ec10c42810",
   "metadata": {},
   "outputs": [
    {
     "data": {
      "text/plain": [
       "array([ 0.5442156 ,  0.83836673,  0.        ,  0.        , -0.02337373,\n",
       "       -0.00203407, -0.02049713,  0.        ])"
      ]
     },
     "execution_count": 28,
     "metadata": {},
     "output_type": "execute_result"
    }
   ],
   "source": [
    "amps"
   ]
  },
  {
   "cell_type": "code",
   "execution_count": 30,
   "id": "a6bf7d69-8f84-4fbd-b927-02f76be7c28c",
   "metadata": {},
   "outputs": [
    {
     "data": {
      "text/plain": [
       "[[(1+0j), 0j, 0j, 0j, 0j, 0j, 0j, 0j],\n",
       " [0j, (1+0j), 0j, 0j, 0j, 0j, 0j, 0j],\n",
       " [0j, 0j, (1+0j), 0j, 0j, 0j, 0j, 0j],\n",
       " [0j, 0j, 0j, (1+0j), 0j, 0j, 0j, 0j],\n",
       " [0j, 0j, 0j, 0j, 1j, 0j, 0j, 0j],\n",
       " [0j, 0j, 0j, 0j, 0j, 1j, 0j, 0j],\n",
       " [0j, 0j, 0j, 0j, 0j, 0j, 1j, 0j],\n",
       " [0j, 0j, 0j, 0j, 0j, 0j, 0j, 1j]]"
      ]
     },
     "execution_count": 30,
     "metadata": {},
     "output_type": "execute_result"
    }
   ],
   "source": [
    "U_matrix.tolist()"
   ]
  },
  {
   "cell_type": "code",
   "execution_count": 32,
   "id": "27a86cea-ecee-4455-8da7-cce9b2c47ac3",
   "metadata": {},
   "outputs": [],
   "source": [
    "\"\"\"\n",
    "Finally, we are ready to define the function that creates and prepares the initial state in the actual quantum algorithm in the qmod environment.\n",
    "\"\"\"\n",
    "@qfunc\n",
    "def my_state_prep(x: Output[QArray[QBit]]):\n",
    "    prepare_amplitudes(amplitudes=amps.tolist(), bound=0.01, out=x)\n",
    "    unitary(U_matrix.tolist(), x)"
   ]
  },
  {
   "cell_type": "code",
   "execution_count": 34,
   "id": "3783e084-c653-45d1-8087-1a57add43b95",
   "metadata": {},
   "outputs": [
    {
     "data": {
      "text/plain": [
       "[[(1+0j), 0j, 0j, 0j, 0j, 0j, 0j, 0j],\n",
       " [0j, (1+0j), 0j, 0j, 0j, 0j, 0j, 0j],\n",
       " [0j, 0j, (1+0j), 0j, 0j, 0j, 0j, 0j],\n",
       " [0j, 0j, 0j, (1+0j), 0j, 0j, 0j, 0j],\n",
       " [0j, 0j, 0j, 0j, 1j, 0j, 0j, 0j],\n",
       " [0j, 0j, 0j, 0j, 0j, 1j, 0j, 0j],\n",
       " [0j, 0j, 0j, 0j, 0j, 0j, 1j, 0j],\n",
       " [0j, 0j, 0j, 0j, 0j, 0j, 0j, 1j]]"
      ]
     },
     "execution_count": 34,
     "metadata": {},
     "output_type": "execute_result"
    }
   ],
   "source": [
    "U_matrix.tolist()"
   ]
  },
  {
   "cell_type": "code",
   "execution_count": 36,
   "id": "4b952cb2-70f7-433c-b00b-b5ce3640e12c",
   "metadata": {},
   "outputs": [],
   "source": [
    "@qfunc\n",
    "def main(data: Output[QNum], block: Output[QNum]):\n",
    "    allocate(lcu_size_ham, block)\n",
    "    my_state_prep(data)\n",
    "    lcu_paulis(HAMILTONIAN, prepare_probs_ham, block, data)\n",
    "\n",
    "\n",
    "qmod = create_model(main, execution_preferences=Execution_Prefs)\n",
    "qprog = synthesize(qmod)\n",
    "# show(qprog)"
   ]
  },
  {
   "cell_type": "code",
   "execution_count": 37,
   "id": "2b356731-0ff0-47ae-875e-4abb66c92bf7",
   "metadata": {},
   "outputs": [],
   "source": [
    "res = execute(qprog).result()"
   ]
  },
  {
   "cell_type": "code",
   "execution_count": 38,
   "id": "3da5c798-4a9f-4ac5-b143-ff69fad02350",
   "metadata": {},
   "outputs": [],
   "source": [
    "state_result = get_projected_state_vector(res, \"data\", {\"block\": 0.0})"
   ]
  },
  {
   "cell_type": "code",
   "execution_count": 39,
   "id": "b92b9836-3b7a-4ba0-8b84-490c34bb35d1",
   "metadata": {},
   "outputs": [],
   "source": [
    "PAULI_MATRICES_DICT = {\n",
    "    Pauli.I: np.array([[1, 0], [0, 1]], dtype=np.complex128),\n",
    "    Pauli.Z: np.array([[1, 0], [0, -1]], dtype=np.complex128),\n",
    "    Pauli.X: np.array([[0, 1], [1, 0]], dtype=np.complex128),\n",
    "    Pauli.Y: np.array([[0, -1j], [1j, 0]], dtype=np.complex128),\n",
    "}\n",
    "\n",
    "\n",
    "def pauli_list_to_mat(pauli_list: list) -> np.ndarray:\n",
    "    real_matrix = 0\n",
    "    for term in pauli_list:\n",
    "        single_str = PAULI_MATRICES_DICT[term.pauli[0]]\n",
    "        for pauli in term.pauli[1:]:\n",
    "            single_str = np.kron(single_str, PAULI_MATRICES_DICT[pauli])\n",
    "        real_matrix += term.coefficient * single_str\n",
    "\n",
    "    assert np.allclose(\n",
    "        np.transpose(np.conjugate(real_matrix)), real_matrix\n",
    "    ), \"matrix not Hermitian\"\n",
    "    assert np.allclose(np.imag(real_matrix), 0.0), \"matrix is not real valued\"\n",
    "    return np.real(real_matrix)"
   ]
  },
  {
   "cell_type": "code",
   "execution_count": 40,
   "id": "65445112-3ff4-4ff9-a10a-2ae7ef706126",
   "metadata": {},
   "outputs": [],
   "source": [
    "matrix = pauli_list_to_mat(HAMILTONIAN)"
   ]
  },
  {
   "cell_type": "code",
   "execution_count": 41,
   "id": "ee3d546f-8cc5-440c-bbfa-223c2e8fa63f",
   "metadata": {},
   "outputs": [
    {
     "data": {
      "text/plain": [
       "array([[ 0.        ,  0.        ,  0.        ,  0.        ,  0.41421356,\n",
       "         0.29289322,  0.        ,  0.        ],\n",
       "       [ 0.        ,  0.        ,  0.        ,  0.        ,  0.        ,\n",
       "        -0.20710678,  0.29289322,  0.        ],\n",
       "       [ 0.        ,  0.        ,  0.        ,  0.        ,  0.        ,\n",
       "         0.        ,  0.        ,  0.        ],\n",
       "       [ 0.        ,  0.        ,  0.        ,  0.        ,  0.        ,\n",
       "         0.        ,  0.        ,  0.        ],\n",
       "       [ 0.41421356,  0.        ,  0.        ,  0.        ,  0.        ,\n",
       "         0.        ,  0.        ,  0.        ],\n",
       "       [ 0.29289322, -0.20710678,  0.        ,  0.        ,  0.        ,\n",
       "         0.        ,  0.        ,  0.        ],\n",
       "       [ 0.        ,  0.29289322,  0.        ,  0.        ,  0.        ,\n",
       "         0.        ,  0.        ,  0.        ],\n",
       "       [ 0.        ,  0.        ,  0.        ,  0.        ,  0.        ,\n",
       "         0.        ,  0.        ,  0.        ]])"
      ]
     },
     "execution_count": 41,
     "metadata": {},
     "output_type": "execute_result"
    }
   ],
   "source": [
    "matrix/normalization_ham"
   ]
  },
  {
   "cell_type": "code",
   "execution_count": 42,
   "id": "8eacb79c-0dc2-437a-b7b3-3688c880db4a",
   "metadata": {},
   "outputs": [
    {
     "data": {
      "text/plain": [
       "0.10796691275336337"
      ]
     },
     "execution_count": 42,
     "metadata": {},
     "output_type": "execute_result"
    }
   ],
   "source": [
    "normalization_ham"
   ]
  },
  {
   "cell_type": "code",
   "execution_count": 43,
   "id": "3df3c4f5-25bb-4192-b1c7-bd767602f437",
   "metadata": {},
   "outputs": [
    {
     "data": {
      "text/plain": [
       "array([ 0.5442156 ,  0.83836673,  0.        ,  0.        , -0.02337373,\n",
       "       -0.00203407, -0.02049713,  0.        ])"
      ]
     },
     "execution_count": 43,
     "metadata": {},
     "output_type": "execute_result"
    }
   ],
   "source": [
    "amps"
   ]
  },
  {
   "cell_type": "code",
   "execution_count": 44,
   "id": "0ad06c36-f54d-43a2-869b-050050a30144",
   "metadata": {},
   "outputs": [],
   "source": [
    "expected_state = (matrix / normalization_ham) @ (U_matrix @ (amps * [1,1,1,1,1j,1j,1j,1j]))\n",
    "relative_phase = np.angle(expected_state[0] / state_result[0])\n",
    "state_result = state_result * np.exp(1j * relative_phase)"
   ]
  },
  {
   "cell_type": "code",
   "execution_count": 45,
   "id": "bffd30d1-842c-4f7d-bf0a-f9c02418c08a",
   "metadata": {},
   "outputs": [
    {
     "data": {
      "text/plain": [
       "0.11145000093834295"
      ]
     },
     "execution_count": 45,
     "metadata": {},
     "output_type": "execute_result"
    }
   ],
   "source": [
    "sum(np.abs(expected_state)**2)"
   ]
  },
  {
   "cell_type": "code",
   "execution_count": 46,
   "id": "25127ad9-8e6d-4182-8568-ba17f1022f04",
   "metadata": {},
   "outputs": [
    {
     "data": {
      "text/plain": [
       "0.11145000093834159"
      ]
     },
     "execution_count": 46,
     "metadata": {},
     "output_type": "execute_result"
    }
   ],
   "source": [
    "sum(np.abs(state_result)**2)"
   ]
  },
  {
   "cell_type": "code",
   "execution_count": 47,
   "id": "c7c8a055-7b28-4834-b7f8-534e529159cf",
   "metadata": {},
   "outputs": [
    {
     "name": "stdout",
     "output_type": "stream",
     "text": [
      "The resulting state: [ 1.02774817e-02-1.74411094e-18j  5.58219960e-03-3.72004186e-16j\n",
      " -1.25035039e-16-3.11156070e-16j -2.84727905e-16-3.41888056e-16j\n",
      "  2.04089325e-15+2.25421484e-01j -9.34435081e-16-1.42343753e-02j\n",
      "  5.36321799e-15+2.45551930e-01j  3.02204123e-16-2.11463315e-17j]\n",
      "The expected state: [ 0.01027748+0.j  0.0055822 +0.j  0.        +0.j  0.        +0.j\n",
      "  0.22542148+0.j -0.01423438+0.j  0.24555193+0.j  0.        +0.j]\n"
     ]
    }
   ],
   "source": [
    "print(\"The resulting state:\", state_result)\n",
    "print(\"The expected state:\", expected_state)\n",
    "assert np.allclose(state_result, expected_state) < 1e-16"
   ]
  },
  {
   "cell_type": "markdown",
   "id": "012b5610-5a2c-4afb-b668-292506dc7952",
   "metadata": {},
   "source": [
    "#### Success!!!"
   ]
  },
  {
   "cell_type": "markdown",
   "id": "d5c714e3-62f6-4771-9e3a-c0d524672798",
   "metadata": {},
   "source": [
    "#### Hamiltonian Simulation\n",
    "\n",
    "Refer to Task 1 notebook for the approach and detailed explanation"
   ]
  },
  {
   "cell_type": "code",
   "execution_count": 62,
   "id": "8d2ddcdc-e043-46af-9c5f-a16a75fa0910",
   "metadata": {},
   "outputs": [],
   "source": [
    "EVOLUTION_TIME = 10\n",
    "EPS = 0.1    # Precision"
   ]
  },
  {
   "cell_type": "code",
   "execution_count": 64,
   "id": "69e91591-0334-4357-9459-620c94dce3ef",
   "metadata": {},
   "outputs": [],
   "source": [
    "@qfunc\n",
    "def my_walk_operator(block: QArray[QBit], data: QArray[QBit]) -> None:\n",
    "    lcu_paulis(HAMILTONIAN, prepare_probs_ham, block, data)  # Unitary implementing H\n",
    "    reflect_about_zero(block) # Π_|0>M operator\n",
    "    RY(2 * pi, block[0])      # for the negative sign found in the unitary construction of W"
   ]
  },
  {
   "cell_type": "code",
   "execution_count": 66,
   "id": "9353d3dd-f9f4-446c-98a6-684d71a0b489",
   "metadata": {},
   "outputs": [],
   "source": [
    "from scipy.special import eval_chebyt, jv\n",
    "\n",
    "def get_cheb_coef(epsilon, t):\n",
    "    poly_degree = int(\n",
    "        np.ceil(\n",
    "            t\n",
    "            + np.log(epsilon ** (-1)) / np.log(np.exp(1) + np.log(epsilon ** (-1)) / t)\n",
    "        )\n",
    "    )\n",
    "    cos_coef = [jv(0, t)] + [\n",
    "        2 * jv(2 * k, t) * (-1) ** k for k in range(1, poly_degree // 2 + 1)\n",
    "    ]\n",
    "    sin_coef = [\n",
    "        -2 * jv(2 * k - 1, t) * (-1) ** k for k in range(1, poly_degree // 2 + 1)\n",
    "    ]\n",
    "    return cos_coef, sin_coef"
   ]
  },
  {
   "cell_type": "code",
   "execution_count": 68,
   "id": "65afb715-1df9-41f6-810b-73cb3072f3e7",
   "metadata": {},
   "outputs": [],
   "source": [
    "normalized_time = normalization_ham * EVOLUTION_TIME   # because block encoding for H stores H/alpha_bar (normalization constant)\n",
    "\n",
    "cos_coef, sin_coef = get_cheb_coef(EPS, normalized_time)\n",
    "\n",
    "combined_sin_cos_coef = []\n",
    "for k in range(len(cos_coef) - 1):\n",
    "    combined_sin_cos_coef.append(cos_coef[k])\n",
    "    combined_sin_cos_coef.append(sin_coef[k])\n",
    "combined_sin_cos_coef.append(cos_coef[-1])\n",
    "if len(sin_coef) == len(cos_coef):\n",
    "    combined_sin_cos_coef.append(sin_coef[-1])"
   ]
  },
  {
   "cell_type": "code",
   "execution_count": 70,
   "id": "560bd69a-9704-4b4b-b4cd-5d275d79bbaf",
   "metadata": {},
   "outputs": [],
   "source": [
    "signs_cheb_coef = np.sign(combined_sin_cos_coef).tolist()\n",
    "generalized_signs = [\n",
    "    (1 - signs_cheb_coef[s]) + (s) % 2 for s in range(len(signs_cheb_coef))\n",
    "]\n",
    "positive_cheb_lcu_coef = np.abs(combined_sin_cos_coef)"
   ]
  },
  {
   "cell_type": "code",
   "execution_count": 72,
   "id": "ac6839a1-ac78-414e-a702-9fdb84d54a37",
   "metadata": {},
   "outputs": [
    {
     "name": "stdout",
     "output_type": "stream",
     "text": [
      "The size of the block encoding: 2\n",
      "\n",
      " The normalized coefficients: [0.3791522133573868, 0.483502611893942, 0.1373451747486712, 0]\n",
      "\n",
      " The normalization factor: 1.9230670802735523\n"
     ]
    }
   ],
   "source": [
    "normalization_exp, lcu_size_exp, prepare_probs_exp = get_normalized_lcu_coef(\n",
    "    positive_cheb_lcu_coef\n",
    ")"
   ]
  },
  {
   "cell_type": "code",
   "execution_count": 74,
   "id": "bb6df958-31b0-4b06-9a2a-b9d4311331a1",
   "metadata": {},
   "outputs": [],
   "source": [
    "@qfunc\n",
    "def lcu_cheb(\n",
    "    coef: CArray[CReal],\n",
    "    generalized_signs: CArray[CInt],\n",
    "    walk_operator: QCallable[QNum, QArray],\n",
    "    walk_block: QNum,\n",
    "    walk_data: QArray,\n",
    "    cheb_block: QNum,\n",
    "):\n",
    "\n",
    "    within_apply(\n",
    "        lambda: inplace_prepare_state(coef, 0.0, cheb_block),\n",
    "        lambda: repeat(\n",
    "            generalized_signs.len,\n",
    "            lambda k: control(\n",
    "                cheb_block == k,\n",
    "                lambda: (\n",
    "                    U(0, 0, 0, pi / 2 * generalized_signs[k], walk_data[0]),\n",
    "                    power(k, lambda: walk_operator(walk_block, walk_data)),\n",
    "                ),\n",
    "            ),\n",
    "        ),\n",
    "    )"
   ]
  },
  {
   "cell_type": "code",
   "execution_count": 76,
   "id": "dd375141-b126-4dc1-8364-e66e0612b916",
   "metadata": {},
   "outputs": [],
   "source": [
    "@qfunc\n",
    "def main(ham_block: Output[QNum], data: Output[QNum], exp_block: Output[QNum]):\n",
    "    allocate(lcu_size_exp, exp_block)\n",
    "    allocate(lcu_size_ham, ham_block)\n",
    "    my_state_prep(data)  # Initial state prep block\n",
    "    lcu_cheb(\n",
    "        prepare_probs_exp,\n",
    "        generalized_signs,\n",
    "        lambda x, y: my_walk_operator(x, y),\n",
    "        ham_block,\n",
    "        data,\n",
    "        exp_block,\n",
    "    )\n",
    "\n",
    "\n",
    "qmod = create_model(main, execution_preferences=Execution_Prefs)\n",
    "write_qmod(qmod, \"hamiltonian_simulation_qubitization_2_oscillators\", decimal_precision=12)"
   ]
  },
  {
   "cell_type": "code",
   "execution_count": 78,
   "id": "5c3327d5-275e-49bc-a13c-4f91839ce0c2",
   "metadata": {},
   "outputs": [
    {
     "name": "stdout",
     "output_type": "stream",
     "text": [
      "Opening: https://platform.classiq.io/circuit/728b95c2-26a6-4329-885c-1dbcfde59f00?version=0.47.0\n"
     ]
    }
   ],
   "source": [
    "qprog = synthesize(qmod)\n",
    "show(qprog)"
   ]
  },
  {
   "attachments": {
    "4215a5ab-a2d6-4d43-82ec-15d8feebfdb3.jpg": {
     "image/jpeg": "[encoded data removed]"
    }
   },
   "cell_type": "markdown",
   "id": "fa0d40fa-a3fd-41e6-923f-d013479fefcd",
   "metadata": {},
   "source": [
    "#### Circuit generated\n",
    "\n",
    "* Width: 12\n",
    "* Depth: 7886\n",
    "* Gates:\n",
    "  * U: 5817\n",
    "  * CX: 5507\n",
    "\n",
    "![2_oscillators.jpg](attachment:4215a5ab-a2d6-4d43-82ec-15d8feebfdb3.jpg)"
   ]
  },
  {
   "cell_type": "code",
   "execution_count": 80,
   "id": "3b95ddb1-07aa-45c2-87c9-b88a68ef74e0",
   "metadata": {},
   "outputs": [],
   "source": [
    "results = execute(qprog).result()"
   ]
  },
  {
   "cell_type": "code",
   "execution_count": 81,
   "id": "ff63f286-7940-4a86-92f5-f46927b54583",
   "metadata": {},
   "outputs": [],
   "source": [
    "state_result = get_projected_state_vector(\n",
    "    results, \"data\", {\"exp_block\": 0.0, \"ham_block\": 0.0}\n",
    ")"
   ]
  },
  {
   "cell_type": "code",
   "execution_count": 82,
   "id": "2547f1e7-cf9e-4b47-abcb-9154a8808626",
   "metadata": {},
   "outputs": [
    {
     "name": "stdout",
     "output_type": "stream",
     "text": [
      "expected state: [0.26201711+0.j         0.41650964+0.j         0.        +0.j\n",
      " 0.        +0.j         0.        +0.11168446j 0.        -0.00963653j\n",
      " 0.        +0.12531257j 0.        +0.j        ]\n",
      "resulting state: [ 2.61551791e-01-4.14861417e-17j  4.15147572e-01-5.31695560e-15j\n",
      " -1.32784030e-15-3.71736426e-17j -5.59626994e-16+1.69901637e-15j\n",
      " -3.65441211e-15+9.80887813e-02j  1.97983798e-15-7.42364710e-03j\n",
      "  1.21697879e-15+1.08587404e-01j -7.45397627e-16-1.69334118e-15j]\n"
     ]
    }
   ],
   "source": [
    "expected_state = (\n",
    "    1 / normalization_exp * scipy.linalg.expm(1j * matrix * EVOLUTION_TIME) @ (U_matrix @ amps)\n",
    ")\n",
    "relative_phase = np.angle(expected_state[0] / state_result[0])\n",
    "state_result = state_result * np.exp(\n",
    "    1j * relative_phase\n",
    ")  # rotate according to a global phase\n",
    "print(\"expected state:\", expected_state)\n",
    "print(\"resulting state:\", state_result)\n",
    "assert np.linalg.norm(state_result - expected_state) < EPS"
   ]
  },
  {
   "cell_type": "code",
   "execution_count": 83,
   "id": "941ad32e-ecf9-4f23-a930-6579629e06b1",
   "metadata": {},
   "outputs": [
    {
     "name": "stdout",
     "output_type": "stream",
     "text": [
      "overlap between expected and resulting state: 0.9992324816589931\n"
     ]
    }
   ],
   "source": [
    "print(\n",
    "    \"overlap between expected and resulting state:\",\n",
    "    np.abs(np.vdot(state_result, expected_state))\n",
    "    * normalization_exp\n",
    "    / np.linalg.norm(state_result),\n",
    ")"
   ]
  },
  {
   "cell_type": "markdown",
   "id": "2b44322b-e13b-4a12-be1b-a7e8c80b665a",
   "metadata": {},
   "source": [
    "#### Optimizing the circuit"
   ]
  },
  {
   "cell_type": "markdown",
   "id": "70d42afe-f48b-4fff-96af-92f7aa905918",
   "metadata": {},
   "source": [
    "##### Optimize for depth"
   ]
  },
  {
   "cell_type": "code",
   "execution_count": 86,
   "id": "260dc628-989a-4bb6-a2a3-05bb8931b3eb",
   "metadata": {},
   "outputs": [],
   "source": [
    "qmod_with_constraints = set_constraints(\n",
    "    qmod, Constraints(optimization_parameter=\"depth\")\n",
    ")"
   ]
  },
  {
   "cell_type": "code",
   "execution_count": 87,
   "id": "1a647e9e-f7ca-47f4-a135-684d63b30784",
   "metadata": {},
   "outputs": [],
   "source": [
    "write_qmod(qmod, \"hamiltonian_simulation_qubitization_2_oscillators_optimized_depth\", decimal_precision=12)"
   ]
  },
  {
   "cell_type": "code",
   "execution_count": 41,
   "id": "f7f6e809-d7df-44e1-a68b-56c5b0cd6ae9",
   "metadata": {},
   "outputs": [
    {
     "name": "stdout",
     "output_type": "stream",
     "text": [
      "Opening: https://platform.classiq.io/circuit/ab717d9f-1888-44a8-af06-793781816c0b?version=0.44.0\n"
     ]
    }
   ],
   "source": [
    "qprog = synthesize(qmod_with_constraints)\n",
    "show(qprog)"
   ]
  },
  {
   "cell_type": "code",
   "execution_count": 95,
   "id": "9f4e9d9a-7db1-42fe-881c-668aeda9545b",
   "metadata": {},
   "outputs": [
    {
     "name": "stdout",
     "output_type": "stream",
     "text": [
      "The circuit width is 12 and the circuit_depth is 8829\n"
     ]
    }
   ],
   "source": [
    "circuit_width = QuantumProgram.from_qprog(qprog).data.width\n",
    "circuit_depth = QuantumProgram.from_qprog(qprog).transpiled_circuit.depth\n",
    "print(f\"The circuit width is {circuit_width} and the circuit_depth is {circuit_depth}\")"
   ]
  },
  {
   "cell_type": "markdown",
   "id": "e2364d1f-b13f-44ad-b5d3-04dd66f9c7cf",
   "metadata": {},
   "source": [
    "##### Circuit Obtained\n"
   ]
  },
  {
   "cell_type": "markdown",
   "id": "f1a8c3d3-23e3-49d5-9ceb-d5fada3b4ebd",
   "metadata": {},
   "source": [
    "##### Optimize for width"
   ]
  },
  {
   "cell_type": "code",
   "execution_count": 99,
   "id": "da1aee19-f63b-4fd9-8d9e-3ed2001da2ce",
   "metadata": {},
   "outputs": [],
   "source": [
    "qmod_with_constraints = set_constraints(\n",
    "    qmod, Constraints(optimization_parameter=\"width\")\n",
    ")"
   ]
  },
  {
   "cell_type": "code",
   "execution_count": 50,
   "id": "34457f24-ffc0-47e6-85b0-7e01ef81e593",
   "metadata": {},
   "outputs": [],
   "source": [
    "write_qmod(qmod, \"hamiltonian_simulation_qubitization_2_oscillators_optimized_width\", decimal_precision=12)"
   ]
  },
  {
   "cell_type": "code",
   "execution_count": 44,
   "id": "467f130f-c8a3-4975-a1d0-eb323fdfe2e4",
   "metadata": {},
   "outputs": [
    {
     "name": "stdout",
     "output_type": "stream",
     "text": [
      "Opening: https://platform.classiq.io/circuit/8438db51-96b9-48ce-93b1-0d280f2a5c26?version=0.44.0\n"
     ]
    }
   ],
   "source": [
    "qprog = synthesize(qmod_with_constraints)\n",
    "show(qprog)"
   ]
  },
  {
   "cell_type": "markdown",
   "id": "90350cb6-38fe-44cb-b767-c6ec6ce5c58d",
   "metadata": {},
   "source": [
    "#### Comparative Analysis\n",
    "\n",
    "| S.No | Method | Width | Depth | U | CX |\n",
    "|---|---|---|---|---|---|\n",
    "| 1. | Default | 12 | 7886 | 5817 | 5507 | \n",
    "| 2. | Optimize Width | 10 | 14628 | 11013 | 10347 |\n",
    "| 3. | Optimize Depth | 267 | 4433 | 4100 | 3555 |\n",
    "\n",
    "We see that while optimizing for width reduces the number of qubits by 2 for a two-fold increase in depth, the number of qubits used to reduce depth by a factor of 2 is extremely large (267)."
   ]
  },
  {
   "cell_type": "markdown",
   "id": "75c3519a-6891-4cb7-8990-de9f3ed827f2",
   "metadata": {},
   "source": [
    "**Remarks**: The ratio of the spring constants over the masses plays a crucial role in the running time. We find that for fixed spring constant values $\\kappa_{11}=\\kappa_{22}=9, \\kappa_{12}=\\kappa_{21}=4$, running with mass values < 1000 (say 10 or even 100) resulted in a timeout error during the synthesize function call. We have therefore used a value of 1000 to generate the circuits and demonstrate the correctness of our code"
   ]
  }
 ],
 "metadata": {
  "kernelspec": {
   "display_name": "Python 3 (ipykernel)",
   "language": "python",
   "name": "python3"
  },
  "language_info": {
   "codemirror_mode": {
    "name": "ipython",
    "version": 3
   },
   "file_extension": ".py",
   "mimetype": "text/x-python",
   "name": "python",
   "nbconvert_exporter": "python",
   "pygments_lexer": "ipython3",
   "version": "3.11.7"
  }
 },
 "nbformat": 4,
 "nbformat_minor": 5
}
